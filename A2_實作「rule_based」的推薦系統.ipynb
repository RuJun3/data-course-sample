{
  "cells": [
    {
      "cell_type": "markdown",
      "metadata": {
        "id": "view-in-github",
        "colab_type": "text"
      },
      "source": [
        "<a href=\"https://colab.research.google.com/github/rujunz/data-course-sample/blob/main/A2_%E5%AF%A6%E4%BD%9C%E3%80%8Crule_based%E3%80%8D%E7%9A%84%E6%8E%A8%E8%96%A6%E7%B3%BB%E7%B5%B1.ipynb\" target=\"_parent\"><img src=\"https://colab.research.google.com/assets/colab-badge.svg\" alt=\"Open In Colab\"/></a>"
      ]
    },
    {
      "cell_type": "markdown",
      "metadata": {
        "id": "l31qe0HOT3T2"
      },
      "source": [
        "# Sample Code"
      ],
      "id": "l31qe0HOT3T2"
    },
    {
      "cell_type": "markdown",
      "metadata": {
        "id": "lAAWPETjT3T-"
      },
      "source": [
        "## 匯入資料"
      ],
      "id": "lAAWPETjT3T-"
    },
    {
      "cell_type": "code",
      "execution_count": null,
      "metadata": {
        "scrolled": true,
        "id": "vgkAqiz4T3UA"
      },
      "outputs": [],
      "source": [
        "import pandas as pd\n",
        "import gzip, json\n",
        "from datetime import datetime, timedelta\n",
        "\n",
        "def parse(path):\n",
        "    g = gzip.open(path, 'rb')\n",
        "    for l in g:\n",
        "        yield json.loads(l)\n",
        "\n",
        "def getDF(path):\n",
        "    i = 0\n",
        "    df = {}\n",
        "    for d in parse(path):\n",
        "        df[i] = d\n",
        "        i += 1\n",
        "    return pd.DataFrame.from_dict(df, orient='index')"
      ],
      "id": "vgkAqiz4T3UA"
    },
    {
      "cell_type": "markdown",
      "metadata": {
        "id": "7sEYEfTDT3UF"
      },
      "source": [
        "## 載入資料"
      ],
      "id": "7sEYEfTDT3UF"
    },
    {
      "cell_type": "code",
      "execution_count": null,
      "metadata": {
        "id": "LW7lidZqT3UG"
      },
      "outputs": [],
      "source": [
        "!wget http://deepyeti.ucsd.edu/jianmo/amazon/categoryFilesSmall/All_Beauty.csv\n",
        "!wget http://deepyeti.ucsd.edu/jianmo/amazon/metaFiles2/meta_All_Beauty.json.gz"
      ],
      "id": "LW7lidZqT3UG"
    },
    {
      "cell_type": "code",
      "execution_count": null,
      "metadata": {
        "id": "C_ndBOxST3UG"
      },
      "outputs": [],
      "source": [
        "metadata = getDF('/content/meta_All_Beauty.json.gz')\n",
        "ratings = pd.read_csv('/content/All_Beauty.csv', names=['asin', 'reviewerID', 'overall', 'unixReviewTime'], header=None)"
      ],
      "id": "C_ndBOxST3UG"
    },
    {
      "cell_type": "markdown",
      "metadata": {
        "id": "mxPVDBABT3UL"
      },
      "source": [
        "## 整理資料格式"
      ],
      "id": "mxPVDBABT3UL"
    },
    {
      "cell_type": "code",
      "execution_count": null,
      "metadata": {
        "id": "iPHE_H3rT3UM"
      },
      "outputs": [],
      "source": [
        "ratings['DATE'] = pd.to_datetime(ratings['unixReviewTime'], unit='s')\n",
        "metadata['rank'] = metadata['rank'].str.split(expand = True)[0]\n",
        "metadata['rank'] = metadata['rank'].str.replace(',', '')\n",
        "metadata['rank'] = pd.to_numeric(metadata['rank'])"
      ],
      "id": "iPHE_H3rT3UM"
    },
    {
      "cell_type": "markdown",
      "metadata": {
        "id": "rBJeIpVhT3UN"
      },
      "source": [
        "## 資料切分"
      ],
      "id": "rBJeIpVhT3UN"
    },
    {
      "cell_type": "code",
      "execution_count": null,
      "metadata": {
        "id": "fvS0gAdkT3UO"
      },
      "outputs": [],
      "source": [
        "ratings_trainings = ratings[(ratings['DATE'] < '2018-09-01')]\n",
        "ratings_testings = ratings[(ratings['DATE'] >= '2018-09-01') & (ratings['DATE'] <= '2018-09-30')]\n",
        "ratings_testings_by_user = ratings_testings.groupby('reviewerID').agg(list).reset_index()[['reviewerID', 'asin']].to_dict('records')\n",
        "ratings_testings_by_user = { rating['reviewerID']: rating['asin'] for rating in ratings_testings_by_user }\n",
        "users = list(ratings_testings_by_user.keys())"
      ],
      "id": "fvS0gAdkT3UO"
    },
    {
      "cell_type": "markdown",
      "metadata": {
        "id": "hSGb2VOoT3UR"
      },
      "source": [
        "## 結果評估"
      ],
      "id": "hSGb2VOoT3UR"
    },
    {
      "cell_type": "code",
      "execution_count": null,
      "metadata": {
        "id": "_yESM3MtT3UR",
        "outputId": "432133b0-4b22-4626-9596-f16c7a92a2c7",
        "colab": {
          "base_uri": "https://localhost:8080/"
        }
      },
      "outputs": [
        {
          "output_type": "execute_result",
          "data": {
            "text/plain": [
              "0.0"
            ]
          },
          "metadata": {},
          "execution_count": 128
        }
      ],
      "source": [
        "def evaluate(ratings_testings_by_user={}, ratings_by_user={}, method=None):\n",
        "    total = 0\n",
        "    for d in ratings_testings_by_user:\n",
        "        if d in ratings_by_user:\n",
        "            total += len(set(ratings_by_user[d]) & set(ratings_testings_by_user[d]))\n",
        "\n",
        "    score = total / len(ratings_testings)\n",
        "    return score\n",
        "\n",
        "evaluate(ratings_testings_by_user, ratings_by_user)"
      ],
      "id": "_yESM3MtT3UR"
    },
    {
      "cell_type": "markdown",
      "source": [
        "## 實作「randam-based」的推薦系統"
      ],
      "metadata": {
        "id": "z5QAwb5THRu_"
      },
      "id": "z5QAwb5THRu_"
    },
    {
      "cell_type": "code",
      "source": [
        "def recommender(training_data, users=[], k=2):\n",
        "    recommendations = {}\n",
        "    '''\n",
        "    random-based\n",
        "    '''\n",
        "    ratings_trainings = training_data\n",
        "    recommendations = {user: ratings_trainings['asin'].sample(n=k).tolist() for user in users}\n",
        "    return recommendations\n",
        "ratings_by_user = recommender(ratings_trainings, users)\n",
        "evaluate(ratings_testings_by_user, ratings_by_user)"
      ],
      "metadata": {
        "id": "WVuYHGDYHP4Z"
      },
      "id": "WVuYHGDYHP4Z",
      "execution_count": null,
      "outputs": []
    },
    {
      "cell_type": "markdown",
      "source": [
        "## A2: 實作「rule-based」的推薦系統"
      ],
      "metadata": {
        "id": "X8BP_5sVMUsj"
      },
      "id": "X8BP_5sVMUsj"
    },
    {
      "cell_type": "markdown",
      "source": [
        "### rank top 10"
      ],
      "metadata": {
        "id": "uPU9PbwbbwhL"
      },
      "id": "uPU9PbwbbwhL"
    },
    {
      "cell_type": "code",
      "source": [
        "def recommender(training_data, users=[], k=10):\n",
        "  recommendations = {}\n",
        "  recommendations = {user: metadata.sort_values(by=['rank']).head(10)['asin'].values.tolist() for user in users}\n",
        "  return recommendations\n",
        "\n",
        "ratings_by_user = recommender(ratings_trainings, users)\n",
        "evaluate(ratings_testings_by_user, ratings_by_user)"
      ],
      "metadata": {
        "id": "6AUk5vd6XH9j",
        "outputId": "f718a448-7c1c-4574-8400-77bed855feeb",
        "colab": {
          "base_uri": "https://localhost:8080/"
        }
      },
      "id": "6AUk5vd6XH9j",
      "execution_count": null,
      "outputs": [
        {
          "output_type": "execute_result",
          "data": {
            "text/plain": [
              "0.005084745762711864"
            ]
          },
          "metadata": {},
          "execution_count": 325
        }
      ]
    },
    {
      "cell_type": "markdown",
      "source": [
        "### review count top 10"
      ],
      "metadata": {
        "id": "azNC8un-by5R"
      },
      "id": "azNC8un-by5R"
    },
    {
      "cell_type": "code",
      "source": [
        "def recommender(training_data, users=[], k=10):\n",
        "  recommendations = {}\n",
        "  recommendations = {user: ratings_trainings['asin'].value_counts().head(10).keys().values.tolist() for user in users}\n",
        "  return recommendations\n",
        "\n",
        "ratings_by_user = recommender(ratings_trainings, users)\n",
        "evaluate(ratings_testings_by_user, ratings_by_user)"
      ],
      "metadata": {
        "id": "0qdc2rGdbkL0",
        "outputId": "7d94731c-e83e-415f-92a8-c12c113299b1",
        "colab": {
          "base_uri": "https://localhost:8080/"
        }
      },
      "id": "0qdc2rGdbkL0",
      "execution_count": null,
      "outputs": [
        {
          "output_type": "execute_result",
          "data": {
            "text/plain": [
              "0.08305084745762711"
            ]
          },
          "metadata": {},
          "execution_count": 324
        }
      ]
    },
    {
      "cell_type": "markdown",
      "source": [
        "### within 6 months review count top 10"
      ],
      "metadata": {
        "id": "Lm1I7S5jb3ey"
      },
      "id": "Lm1I7S5jb3ey"
    },
    {
      "cell_type": "code",
      "source": [
        "def recommender(training_data, users=[], k=10):\n",
        "  recommendations = {}\n",
        "  recommendations = {user: ratings_trainings[(datetime.strptime(\"2018-9-1\", \"%Y-%m-%d\") - ratings_trainings['DATE']) < d]['asin'].value_counts().head(10).keys().values.tolist() for user in users}\n",
        "  return recommendations\n",
        "\n",
        "ratings_by_user = recommender(ratings_trainings, users)\n",
        "evaluate(ratings_testings_by_user, ratings_by_user)"
      ],
      "metadata": {
        "id": "ipOw0toebLGj",
        "outputId": "cd33f9e0-365c-4fb8-a59a-b51524dad9e5",
        "colab": {
          "base_uri": "https://localhost:8080/"
        }
      },
      "id": "ipOw0toebLGj",
      "execution_count": null,
      "outputs": [
        {
          "output_type": "execute_result",
          "data": {
            "text/plain": [
              "0.09661016949152543"
            ]
          },
          "metadata": {},
          "execution_count": 322
        }
      ]
    },
    {
      "cell_type": "code",
      "source": [
        ""
      ],
      "metadata": {
        "id": "RqGFeiHLZdiU"
      },
      "id": "RqGFeiHLZdiU",
      "execution_count": null,
      "outputs": []
    }
  ],
  "metadata": {
    "kernelspec": {
      "display_name": "Python 3",
      "language": "python",
      "name": "python3"
    },
    "language_info": {
      "codemirror_mode": {
        "name": "ipython",
        "version": 3
      },
      "file_extension": ".py",
      "mimetype": "text/x-python",
      "name": "python",
      "nbconvert_exporter": "python",
      "pygments_lexer": "ipython3",
      "version": "3.6.5"
    },
    "colab": {
      "name": "A2: 實作「rule-based」的推薦系統",
      "provenance": [],
      "include_colab_link": true
    }
  },
  "nbformat": 4,
  "nbformat_minor": 5
}